{
 "cells": [
  {
   "cell_type": "markdown",
   "id": "limiting-vienna",
   "metadata": {},
   "source": [
    "## Lasttests von Machine Learning Modellen zur Qualitätssicherung\n",
    "Dieses Notebook ist Teil von <a href='https://datenverknoten.de/mlops/lasttests-von-machine-learning-modellen-zur-qualitatssicherung/' target='_blank'>einem Artikel</a> auf www.datenverknoten.de.\n",
    "<br>Quelle des verwendeten Datensatzes: https://www.kaggle.com/lirilkumaramal/heart-stroke"
   ]
  },
  {
   "cell_type": "code",
   "execution_count": 1,
   "id": "falling-correspondence",
   "metadata": {},
   "outputs": [],
   "source": [
    "import pandas as pd\n",
    "import seaborn as sns"
   ]
  },
  {
   "cell_type": "markdown",
   "id": "enabling-proxy",
   "metadata": {},
   "source": [
    "Mit JMeter wurde ein Lasttest durchgeführt. Die Ergebnisse der Anfragen sind in einer CSV Datei gespeichert, die zunächst geladen wird."
   ]
  },
  {
   "cell_type": "code",
   "execution_count": 2,
   "id": "sticky-anderson",
   "metadata": {},
   "outputs": [],
   "source": [
    "test_results = pd.read_csv('export.csv')"
   ]
  },
  {
   "cell_type": "markdown",
   "id": "furnished-genome",
   "metadata": {},
   "source": [
    "Um den Inhalt der Daten zu verstehen, werden die ersten Zeilen der Tabelle ausgegeben."
   ]
  },
  {
   "cell_type": "code",
   "execution_count": 3,
   "id": "occasional-advertiser",
   "metadata": {},
   "outputs": [
    {
     "data": {
      "text/html": [
       "<div>\n",
       "<style scoped>\n",
       "    .dataframe tbody tr th:only-of-type {\n",
       "        vertical-align: middle;\n",
       "    }\n",
       "\n",
       "    .dataframe tbody tr th {\n",
       "        vertical-align: top;\n",
       "    }\n",
       "\n",
       "    .dataframe thead th {\n",
       "        text-align: right;\n",
       "    }\n",
       "</style>\n",
       "<table border=\"1\" class=\"dataframe\">\n",
       "  <thead>\n",
       "    <tr style=\"text-align: right;\">\n",
       "      <th></th>\n",
       "      <th>timeStamp</th>\n",
       "      <th>elapsed</th>\n",
       "      <th>label</th>\n",
       "      <th>responseCode</th>\n",
       "      <th>responseMessage</th>\n",
       "      <th>threadName</th>\n",
       "      <th>dataType</th>\n",
       "      <th>success</th>\n",
       "      <th>failureMessage</th>\n",
       "      <th>bytes</th>\n",
       "      <th>sentBytes</th>\n",
       "      <th>grpThreads</th>\n",
       "      <th>allThreads</th>\n",
       "      <th>URL</th>\n",
       "      <th>Latency</th>\n",
       "      <th>IdleTime</th>\n",
       "      <th>Connect</th>\n",
       "    </tr>\n",
       "  </thead>\n",
       "  <tbody>\n",
       "    <tr>\n",
       "      <th>0</th>\n",
       "      <td>1617400249429</td>\n",
       "      <td>10</td>\n",
       "      <td>HTTP Request</td>\n",
       "      <td>200</td>\n",
       "      <td>OK</td>\n",
       "      <td>Alle 1-2</td>\n",
       "      <td>text</td>\n",
       "      <td>True</td>\n",
       "      <td>NaN</td>\n",
       "      <td>156</td>\n",
       "      <td>400</td>\n",
       "      <td>3</td>\n",
       "      <td>3</td>\n",
       "      <td>http://127.0.0.1:5005/invocations</td>\n",
       "      <td>10</td>\n",
       "      <td>0</td>\n",
       "      <td>1</td>\n",
       "    </tr>\n",
       "    <tr>\n",
       "      <th>1</th>\n",
       "      <td>1617400249413</td>\n",
       "      <td>22</td>\n",
       "      <td>HTTP Request</td>\n",
       "      <td>200</td>\n",
       "      <td>OK</td>\n",
       "      <td>Alle 1-1</td>\n",
       "      <td>text</td>\n",
       "      <td>True</td>\n",
       "      <td>NaN</td>\n",
       "      <td>156</td>\n",
       "      <td>400</td>\n",
       "      <td>2</td>\n",
       "      <td>2</td>\n",
       "      <td>http://127.0.0.1:5005/invocations</td>\n",
       "      <td>21</td>\n",
       "      <td>0</td>\n",
       "      <td>12</td>\n",
       "    </tr>\n",
       "    <tr>\n",
       "      <th>2</th>\n",
       "      <td>1617400249444</td>\n",
       "      <td>5</td>\n",
       "      <td>HTTP Request</td>\n",
       "      <td>200</td>\n",
       "      <td>OK</td>\n",
       "      <td>Alle 1-2</td>\n",
       "      <td>text</td>\n",
       "      <td>True</td>\n",
       "      <td>NaN</td>\n",
       "      <td>156</td>\n",
       "      <td>400</td>\n",
       "      <td>3</td>\n",
       "      <td>3</td>\n",
       "      <td>http://127.0.0.1:5005/invocations</td>\n",
       "      <td>5</td>\n",
       "      <td>0</td>\n",
       "      <td>1</td>\n",
       "    </tr>\n",
       "    <tr>\n",
       "      <th>3</th>\n",
       "      <td>1617400249444</td>\n",
       "      <td>6</td>\n",
       "      <td>HTTP Request</td>\n",
       "      <td>200</td>\n",
       "      <td>OK</td>\n",
       "      <td>Alle 1-1</td>\n",
       "      <td>text</td>\n",
       "      <td>True</td>\n",
       "      <td>NaN</td>\n",
       "      <td>156</td>\n",
       "      <td>400</td>\n",
       "      <td>3</td>\n",
       "      <td>3</td>\n",
       "      <td>http://127.0.0.1:5005/invocations</td>\n",
       "      <td>6</td>\n",
       "      <td>0</td>\n",
       "      <td>2</td>\n",
       "    </tr>\n",
       "    <tr>\n",
       "      <th>4</th>\n",
       "      <td>1617400249449</td>\n",
       "      <td>4</td>\n",
       "      <td>HTTP Request</td>\n",
       "      <td>200</td>\n",
       "      <td>OK</td>\n",
       "      <td>Alle 1-3</td>\n",
       "      <td>text</td>\n",
       "      <td>True</td>\n",
       "      <td>NaN</td>\n",
       "      <td>156</td>\n",
       "      <td>400</td>\n",
       "      <td>3</td>\n",
       "      <td>3</td>\n",
       "      <td>http://127.0.0.1:5005/invocations</td>\n",
       "      <td>4</td>\n",
       "      <td>0</td>\n",
       "      <td>1</td>\n",
       "    </tr>\n",
       "  </tbody>\n",
       "</table>\n",
       "</div>"
      ],
      "text/plain": [
       "       timeStamp  elapsed         label responseCode responseMessage  \\\n",
       "0  1617400249429       10  HTTP Request          200              OK   \n",
       "1  1617400249413       22  HTTP Request          200              OK   \n",
       "2  1617400249444        5  HTTP Request          200              OK   \n",
       "3  1617400249444        6  HTTP Request          200              OK   \n",
       "4  1617400249449        4  HTTP Request          200              OK   \n",
       "\n",
       "  threadName dataType  success  failureMessage  bytes  sentBytes  grpThreads  \\\n",
       "0   Alle 1-2     text     True             NaN    156        400           3   \n",
       "1   Alle 1-1     text     True             NaN    156        400           2   \n",
       "2   Alle 1-2     text     True             NaN    156        400           3   \n",
       "3   Alle 1-1     text     True             NaN    156        400           3   \n",
       "4   Alle 1-3     text     True             NaN    156        400           3   \n",
       "\n",
       "   allThreads                                URL  Latency  IdleTime  Connect  \n",
       "0           3  http://127.0.0.1:5005/invocations       10         0        1  \n",
       "1           2  http://127.0.0.1:5005/invocations       21         0       12  \n",
       "2           3  http://127.0.0.1:5005/invocations        5         0        1  \n",
       "3           3  http://127.0.0.1:5005/invocations        6         0        2  \n",
       "4           3  http://127.0.0.1:5005/invocations        4         0        1  "
      ]
     },
     "execution_count": 3,
     "metadata": {},
     "output_type": "execute_result"
    }
   ],
   "source": [
    "test_results.head()"
   ]
  },
  {
   "cell_type": "markdown",
   "id": "standing-superior",
   "metadata": {},
   "source": [
    "Zunächst soll untersucht werden, wie viele der 6250 Anfragen nicht erfolgreich waren."
   ]
  },
  {
   "cell_type": "code",
   "execution_count": 4,
   "id": "abstract-latino",
   "metadata": {},
   "outputs": [
    {
     "data": {
      "text/html": [
       "<div>\n",
       "<style scoped>\n",
       "    .dataframe tbody tr th:only-of-type {\n",
       "        vertical-align: middle;\n",
       "    }\n",
       "\n",
       "    .dataframe tbody tr th {\n",
       "        vertical-align: top;\n",
       "    }\n",
       "\n",
       "    .dataframe thead th {\n",
       "        text-align: right;\n",
       "    }\n",
       "</style>\n",
       "<table border=\"1\" class=\"dataframe\">\n",
       "  <thead>\n",
       "    <tr style=\"text-align: right;\">\n",
       "      <th></th>\n",
       "      <th>responseCode</th>\n",
       "    </tr>\n",
       "    <tr>\n",
       "      <th>responseMessage</th>\n",
       "      <th></th>\n",
       "    </tr>\n",
       "  </thead>\n",
       "  <tbody>\n",
       "    <tr>\n",
       "      <th>Non HTTP response message: Broken pipe (Write failed)</th>\n",
       "      <td>2</td>\n",
       "    </tr>\n",
       "    <tr>\n",
       "      <th>Non HTTP response message: Connection reset</th>\n",
       "      <td>2</td>\n",
       "    </tr>\n",
       "    <tr>\n",
       "      <th>OK</th>\n",
       "      <td>6246</td>\n",
       "    </tr>\n",
       "  </tbody>\n",
       "</table>\n",
       "</div>"
      ],
      "text/plain": [
       "                                                    responseCode\n",
       "responseMessage                                                 \n",
       "Non HTTP response message: Broken pipe (Write f...             2\n",
       "Non HTTP response message: Connection reset                    2\n",
       "OK                                                          6246"
      ]
     },
     "execution_count": 4,
     "metadata": {},
     "output_type": "execute_result"
    }
   ],
   "source": [
    "test_results[['responseMessage','responseCode']].groupby('responseMessage').count()"
   ]
  },
  {
   "cell_type": "markdown",
   "id": "proof-hours",
   "metadata": {},
   "source": [
    "Es wird ein Histogram erstellt, in welchem sich die Verteilung der elapsed miliseconds sehen lässt."
   ]
  },
  {
   "cell_type": "code",
   "execution_count": 7,
   "id": "given-repository",
   "metadata": {},
   "outputs": [
    {
     "data": {
      "image/png": "[encoded data removed]",
      "text/plain": [
       "<Figure size 360x360 with 1 Axes>"
      ]
     },
     "metadata": {
      "needs_background": "light"
     },
     "output_type": "display_data"
    }
   ],
   "source": [
    "sns.displot(test_results, x='elapsed')"
   ]
  },
  {
   "cell_type": "markdown",
   "id": "veterinary-roots",
   "metadata": {},
   "source": [
    "In einem Scatterplot wird die elapsed milliseconds Zeit gegen den Zeitstempel aufgetragen."
   ]
  },
  {
   "cell_type": "code",
   "execution_count": 13,
   "id": "limiting-general",
   "metadata": {},
   "outputs": [
    {
     "data": {
      "image/png": "[encoded data removed]",
      "text/plain": [
       "<Figure size 432x288 with 1 Axes>"
      ]
     },
     "metadata": {
      "needs_background": "light"
     },
     "output_type": "display_data"
    }
   ],
   "source": [
    "sns_plot = sns.scatterplot(data=test_results, x=\"timeStamp\", y=\"elapsed\",s=3)\n",
    "sns_plot.get_figure().savefig('mlops_3_xy.png')"
   ]
  },
  {
   "cell_type": "code",
   "execution_count": null,
   "id": "outdoor-population",
   "metadata": {},
   "outputs": [],
   "source": []
  }
 ],
 "metadata": {
  "kernelspec": {
   "display_name": "Python 3",
   "language": "python",
   "name": "python3"
  },
  "language_info": {
   "codemirror_mode": {
    "name": "ipython",
    "version": 3
   },
   "file_extension": ".py",
   "mimetype": "text/x-python",
   "name": "python",
   "nbconvert_exporter": "python",
   "pygments_lexer": "ipython3",
   "version": "3.9.2"
  }
 },
 "nbformat": 4,
 "nbformat_minor": 5
}
